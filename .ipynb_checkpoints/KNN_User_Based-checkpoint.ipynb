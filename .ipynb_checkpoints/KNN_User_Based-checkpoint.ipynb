{
 "cells": [
  {
   "cell_type": "code",
   "execution_count": 2,
   "metadata": {
    "colab": {},
    "colab_type": "code",
    "id": "0xxpLl63YrLb"
   },
   "outputs": [],
   "source": [
    "import numpy as np\n",
    "import pandas as pd\n",
    "from sklearn.metrics.pairwise import cosine_similarity\n",
    "from sklearn.model_selection import train_test_split\n",
    "import scipy.sparse as sp\n",
    "\n",
    "data_100k = 'ml-100k/u.data'"
   ]
  },
  {
   "cell_type": "code",
   "execution_count": 3,
   "metadata": {
    "colab": {
     "base_uri": "https://localhost:8080/",
     "height": 204
    },
    "colab_type": "code",
    "id": "12T09W1uZihZ",
    "outputId": "934fc431-ab3c-47b6-8fa5-9c6d26b564bf"
   },
   "outputs": [
    {
     "data": {
      "text/html": [
       "<div>\n",
       "<style scoped>\n",
       "    .dataframe tbody tr th:only-of-type {\n",
       "        vertical-align: middle;\n",
       "    }\n",
       "\n",
       "    .dataframe tbody tr th {\n",
       "        vertical-align: top;\n",
       "    }\n",
       "\n",
       "    .dataframe thead th {\n",
       "        text-align: right;\n",
       "    }\n",
       "</style>\n",
       "<table border=\"1\" class=\"dataframe\">\n",
       "  <thead>\n",
       "    <tr style=\"text-align: right;\">\n",
       "      <th></th>\n",
       "      <th>user_id</th>\n",
       "      <th>movie_id</th>\n",
       "      <th>rating</th>\n",
       "    </tr>\n",
       "  </thead>\n",
       "  <tbody>\n",
       "    <tr>\n",
       "      <th>0</th>\n",
       "      <td>196</td>\n",
       "      <td>242</td>\n",
       "      <td>3</td>\n",
       "    </tr>\n",
       "    <tr>\n",
       "      <th>1</th>\n",
       "      <td>186</td>\n",
       "      <td>302</td>\n",
       "      <td>3</td>\n",
       "    </tr>\n",
       "    <tr>\n",
       "      <th>2</th>\n",
       "      <td>22</td>\n",
       "      <td>377</td>\n",
       "      <td>1</td>\n",
       "    </tr>\n",
       "    <tr>\n",
       "      <th>3</th>\n",
       "      <td>244</td>\n",
       "      <td>51</td>\n",
       "      <td>2</td>\n",
       "    </tr>\n",
       "    <tr>\n",
       "      <th>4</th>\n",
       "      <td>166</td>\n",
       "      <td>346</td>\n",
       "      <td>1</td>\n",
       "    </tr>\n",
       "  </tbody>\n",
       "</table>\n",
       "</div>"
      ],
      "text/plain": [
       "   user_id  movie_id  rating\n",
       "0      196       242       3\n",
       "1      186       302       3\n",
       "2       22       377       1\n",
       "3      244        51       2\n",
       "4      166       346       1"
      ]
     },
     "execution_count": 3,
     "metadata": {},
     "output_type": "execute_result"
    }
   ],
   "source": [
    "df = pd.read_csv(data_100k ,header=None, sep='\\t',names=[\"user_id\", \"movie_id\", \"rating\",\"timestamp\"])\n",
    "n_users, n_items = df['user_id'].unique().shape[0], df['movie_id'].unique().shape[0]\n",
    "# user_ratings = user_ratings.sort_values('user_id').reset_index(drop = True)\n",
    "df = df.drop(columns='timestamp')\n",
    "df.head(5)"
   ]
  },
  {
   "cell_type": "code",
   "execution_count": 22,
   "metadata": {
    "colab": {
     "base_uri": "https://localhost:8080/",
     "height": 136
    },
    "colab_type": "code",
    "id": "F62K13NMZoZ7",
    "outputId": "ec1d0a22-cfd7-479b-8f75-0a1b882aa011"
   },
   "outputs": [
    {
     "name": "stdout",
     "output_type": "stream",
     "text": [
      "943\n"
     ]
    }
   ],
   "source": [
    "ratings = np.zeros((n_users, n_items))\n",
    "for row in df.itertuples():\n",
    "    ratings[row[1]-1, row[2]-1] = row[3]\n",
    "print(len(ratings))\n",
    "# ratings[user][item] = rate\n"
   ]
  },
  {
   "cell_type": "code",
   "execution_count": 17,
   "metadata": {
    "colab": {},
    "colab_type": "code",
    "id": "gcdqLUZsarUI"
   },
   "outputs": [
    {
     "name": "stdout",
     "output_type": "stream",
     "text": [
      "[[5. 3. 4. ... 0. 0. 0.]\n",
      " [4. 0. 0. ... 0. 0. 0.]\n",
      " [0. 0. 0. ... 0. 0. 0.]\n",
      " ...\n",
      " [5. 0. 0. ... 0. 0. 0.]\n",
      " [0. 0. 0. ... 0. 0. 0.]\n",
      " [0. 5. 0. ... 0. 0. 0.]]\n"
     ]
    }
   ],
   "source": [
    "# split dataset into train and test\n",
    "def train_test_split(ratings):\n",
    "    test = np.zeros(ratings.shape)\n",
    "    train = ratings.copy()\n",
    "    for user in range(ratings.shape[0]):\n",
    "        test_ratings = np.random.choice(ratings[user, :].nonzero()[0], \n",
    "                                        size=10, \n",
    "                                        replace=False)\n",
    "        train[user, test_ratings] = 0.\n",
    "        test[user, test_ratings] = ratings[user, test_ratings]\n",
    "    assert(np.all((train * test) == 0)) \n",
    "    return train, test\n",
    "train, test = train_test_split(ratings)"
   ]
  },
  {
   "cell_type": "code",
   "execution_count": 19,
   "metadata": {
    "colab": {},
    "colab_type": "code",
    "id": "83S4_3CSatNr"
   },
   "outputs": [
    {
     "name": "stdout",
     "output_type": "stream",
     "text": [
      "[[1.         0.14210213 0.0418109  ... 0.08969321 0.1595827  0.37417151]\n",
      " [0.14210213 1.         0.09895968 ... 0.13432946 0.12957344 0.07915854]\n",
      " [0.0418109  0.09895968 1.         ... 0.12624664 0.10465194 0.03150962]\n",
      " ...\n",
      " [0.08969321 0.13432946 0.12624664 ... 1.         0.03802515 0.04710438]\n",
      " [0.1595827  0.12957344 0.10465194 ... 0.03802515 1.         0.1683906 ]\n",
      " [0.37417151 0.07915854 0.03150962 ... 0.04710438 0.1683906  1.        ]]\n"
     ]
    }
   ],
   "source": [
    "def fast_similarity(ratings, kind='user', epsilon=1e-9):\n",
    "    # epsilon -> small number for handling dived-by-zero errors\n",
    "    if kind == 'user':\n",
    "        sim = ratings.dot(ratings.T) + epsilon\n",
    "    norms = np.array([np.sqrt(np.diagonal(sim))])\n",
    "    return (sim / norms / norms.T)\n",
    "user_similarity = fast_similarity(train, kind='user')\n",
    "print(user_similarity)"
   ]
  },
  {
   "cell_type": "code",
   "execution_count": 7,
   "metadata": {
    "colab": {},
    "colab_type": "code",
    "id": "XoJbEuTxcE3j"
   },
   "outputs": [],
   "source": [
    "def predict_fast_simple(ratings, similarity, kind='user'):\n",
    "    if kind == 'user':\n",
    "        return similarity.dot(ratings) / np.array([np.abs(similarity).sum(axis=1)]).T"
   ]
  },
  {
   "cell_type": "code",
   "execution_count": 8,
   "metadata": {
    "colab": {},
    "colab_type": "code",
    "id": "k2dG0SgidMZJ"
   },
   "outputs": [],
   "source": [
    "from sklearn.metrics import mean_squared_error\n",
    "def get_rmse(pred, actual):\n",
    "    # Ignore nonzero terms.\n",
    "    pred = pred[actual.nonzero()].flatten()\n",
    "    actual = actual[actual.nonzero()].flatten()\n",
    "    return np.sqrt(mean_squared_error(pred, actual))"
   ]
  },
  {
   "cell_type": "code",
   "execution_count": 10,
   "metadata": {
    "colab": {
     "base_uri": "https://localhost:8080/",
     "height": 34
    },
    "colab_type": "code",
    "id": "XvpTEHs0gWze",
    "outputId": "fc80e86b-5b18-490f-e4d7-f1489e2bf76b"
   },
   "outputs": [
    {
     "name": "stdout",
     "output_type": "stream",
     "text": [
      "User-based CF MSE: 2.916077715879014\n"
     ]
    }
   ],
   "source": [
    "user_prediction = predict_fast_simple(train, user_similarity, kind='user')\n",
    "print ('User-based CF MSE: ' + str(get_rmse(user_prediction, test)))"
   ]
  },
  {
   "cell_type": "code",
   "execution_count": 11,
   "metadata": {
    "colab": {
     "base_uri": "https://localhost:8080/",
     "height": 34
    },
    "colab_type": "code",
    "id": "KZc7bDIxjt5S",
    "outputId": "516d3215-fd44-4887-da7c-1cf473cfbab2"
   },
   "outputs": [
    {
     "name": "stdout",
     "output_type": "stream",
     "text": [
      "Top-k User-based CF MSE: 2.5704027913541827\n"
     ]
    }
   ],
   "source": [
    "import warnings\n",
    "warnings.filterwarnings(\"ignore\")\n",
    "def predict_topk(ratings, similarity, kind='user', k=40):\n",
    "    pred = np.zeros(tuple(ratings.shape))\n",
    "    if kind == 'user':\n",
    "        for i in range(ratings.shape[0]):\n",
    "            top_k_users = [np.argsort(similarity[:,i])[:-k-1:-1]]\n",
    "            for j in range(ratings.shape[1]):\n",
    "                pred[i, j] = similarity[i, :][top_k_users].dot(ratings[:, j][top_k_users]) \n",
    "                pred[i, j] /= np.sum(np.abs(similarity[i, :][top_k_users]))       \n",
    "    \n",
    "    return pred\n",
    "pred = predict_topk(train, user_similarity, kind='user', k=40)\n",
    "print ('Top-k User-based CF MSE: ' + str(get_rmse(pred, test)))"
   ]
  },
  {
   "cell_type": "code",
   "execution_count": 12,
   "metadata": {
    "colab": {},
    "colab_type": "code",
    "id": "Xq9uYbPRfBts"
   },
   "outputs": [],
   "source": [
    "k_array = [5, 15, 30, 40, 50, 60, 100, 120]\n",
    "user_train_rmse = []\n",
    "user_test_rmse = []\n",
    "for k in k_array:\n",
    "    user_pred = predict_topk(train, user_similarity, kind='user', k=k)\n",
    "    user_train_rmse += [get_rmse(user_pred, train)]\n",
    "    user_test_rmse += [get_rmse(user_pred, test)]"
   ]
  },
  {
   "cell_type": "code",
   "execution_count": 13,
   "metadata": {
    "colab": {
     "base_uri": "https://localhost:8080/",
     "height": 405
    },
    "colab_type": "code",
    "id": "YL7BkvUSlJnF",
    "outputId": "2b8f0d47-c4a7-4137-bf75-a0dff97df73c"
   },
   "outputs": [
    {
     "name": "stdout",
     "output_type": "stream",
     "text": [
      "k=5, RMSE in test result=2.9366016789426537\n",
      "k=15, RMSE in test result=2.6589424763270992\n",
      "k=30, RMSE in test result=2.582393970007034\n",
      "k=40, RMSE in test result=2.5704027913541827\n",
      "k=50, RMSE in test result=2.5652758220191036\n",
      "k=60, RMSE in test result=2.56362567838403\n",
      "k=100, RMSE in test result=2.575309763850317\n",
      "k=120, RMSE in test result=2.5870703395169214\n"
     ]
    },
    {
     "data": {
      "text/plain": [
       "<Figure size 640x480 with 1 Axes>"
      ]
     },
     "metadata": {},
     "output_type": "display_data"
    }
   ],
   "source": [
    "for i in range(len(k_array)):\n",
    "  print(f'k={k_array[i]}, RMSE in test result={user_test_rmse[i]}')\n",
    "import matplotlib.pyplot as plt\n",
    "plt.plot(k_array, user_train_rmse, color='red', label='test result')\n",
    "plt.plot(k_array, user_test_rmse, color='green', label='train result')\n",
    "plt.show()"
   ]
  },
  {
   "cell_type": "code",
   "execution_count": 14,
   "metadata": {
    "colab": {},
    "colab_type": "code",
    "id": "nRJEhkSQnzLv"
   },
   "outputs": [],
   "source": [
    " #由上可知，最优的k落在k=40和k=60之间\n",
    "k_array = []\n",
    "for i in range(40,61):\n",
    "  k_array.append(i)\n",
    "user_train_rmse = []\n",
    "user_test_rmse = []\n",
    "for k in k_array:\n",
    "    user_pred = predict_topk(train, user_similarity, kind='user', k=k)\n",
    "    user_train_rmse += [get_rmse(user_pred, train)]\n",
    "    user_test_rmse += [get_rmse(user_pred, test)]"
   ]
  },
  {
   "cell_type": "code",
   "execution_count": 15,
   "metadata": {
    "colab": {
     "base_uri": "https://localhost:8080/",
     "height": 626
    },
    "colab_type": "code",
    "id": "s66ey0-zBYf0",
    "outputId": "5597ee37-1766-460a-f9d7-2bffb9abab4c"
   },
   "outputs": [
    {
     "name": "stdout",
     "output_type": "stream",
     "text": [
      "k=40, RMSE in test result=2.5704027913541827\n",
      "k=41, RMSE in test result=2.569309542088572\n",
      "k=42, RMSE in test result=2.5686434011704553\n",
      "k=43, RMSE in test result=2.5677156069939944\n",
      "k=44, RMSE in test result=2.56764057032143\n",
      "k=45, RMSE in test result=2.567174932704434\n",
      "k=46, RMSE in test result=2.5672639351597306\n",
      "k=47, RMSE in test result=2.566657592928346\n",
      "k=48, RMSE in test result=2.565777203766102\n",
      "k=49, RMSE in test result=2.5653883272752758\n",
      "k=50, RMSE in test result=2.5652758220191036\n",
      "k=51, RMSE in test result=2.5653041993114885\n",
      "k=52, RMSE in test result=2.5643667584220697\n",
      "k=53, RMSE in test result=2.564039370517381\n",
      "k=54, RMSE in test result=2.5639259316398992\n",
      "k=55, RMSE in test result=2.563429790849074\n",
      "k=56, RMSE in test result=2.563749399841228\n",
      "k=57, RMSE in test result=2.563933536143976\n",
      "k=58, RMSE in test result=2.5639118713063698\n",
      "k=59, RMSE in test result=2.5635839135785927\n",
      "k=60, RMSE in test result=2.56362567838403\n"
     ]
    },
    {
     "data": {
      "image/png": "[encoded data removed]",
      "text/plain": [
       "<Figure size 432x288 with 1 Axes>"
      ]
     },
     "metadata": {
      "needs_background": "light"
     },
     "output_type": "display_data"
    }
   ],
   "source": [
    "for i in range(len(k_array)):\n",
    "  print(f'k={k_array[i]}, RMSE in test result={user_test_rmse[i]}')\n",
    "import matplotlib.pyplot as plt\n",
    "plt.plot(k_array, user_train_rmse, color='red', label='test result')\n",
    "plt.plot(k_array, user_test_rmse, color='green', label='train result')\n",
    "plt.show()"
   ]
  },
  {
   "cell_type": "code",
   "execution_count": null,
   "metadata": {
    "colab": {},
    "colab_type": "code",
    "id": "NH1dOD4CDptz"
   },
   "outputs": [],
   "source": [
    "#最优的k=51, RMSE in test result=2.557118043125199"
   ]
  },
  {
   "cell_type": "code",
   "execution_count": null,
   "metadata": {
    "colab": {},
    "colab_type": "code",
    "id": "obLGhvy0EBh1"
   },
   "outputs": [],
   "source": []
  }
 ],
 "metadata": {
  "colab": {
   "collapsed_sections": [],
   "name": "rec_system.ipynb",
   "provenance": [],
   "version": "0.3.2"
  },
  "kernelspec": {
   "display_name": "Python 3",
   "language": "python",
   "name": "python3"
  },
  "language_info": {
   "codemirror_mode": {
    "name": "ipython",
    "version": 3
   },
   "file_extension": ".py",
   "mimetype": "text/x-python",
   "name": "python",
   "nbconvert_exporter": "python",
   "pygments_lexer": "ipython3",
   "version": "3.7.1"
  }
 },
 "nbformat": 4,
 "nbformat_minor": 1
}

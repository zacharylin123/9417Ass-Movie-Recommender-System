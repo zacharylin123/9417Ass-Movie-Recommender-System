{
  "nbformat": 4,
  "nbformat_minor": 0,
  "metadata": {
    "colab": {
      "name": "rec_system.ipynb",
      "version": "0.3.2",
      "provenance": [],
      "collapsed_sections": []
    },
    "language_info": {
      "codemirror_mode": {
        "name": "ipython",
        "version": 3
      },
      "file_extension": ".py",
      "mimetype": "text/x-python",
      "name": "python",
      "nbconvert_exporter": "python",
      "pygments_lexer": "ipython3",
      "version": "3.7.3"
    },
    "kernelspec": {
      "display_name": "Python 3",
      "language": "python",
      "name": "python3"
    }
  },
  "cells": [
    {
      "cell_type": "code",
      "metadata": {
        "id": "0xxpLl63YrLb",
        "colab_type": "code",
        "colab": {}
      },
      "source": [
        "import numpy as np\n",
        "import pandas as pd\n",
        "from sklearn.metrics.pairwise import cosine_similarity\n",
        "from sklearn.model_selection import train_test_split\n",
        "import scipy.sparse as sp\n",
        "\n",
        "data_100k = 'ml-100k/u.data'"
      ],
      "execution_count": 0,
      "outputs": []
    },
    {
      "cell_type": "code",
      "metadata": {
        "id": "12T09W1uZihZ",
        "colab_type": "code",
        "outputId": "934fc431-ab3c-47b6-8fa5-9c6d26b564bf",
        "colab": {
          "base_uri": "https://localhost:8080/",
          "height": 204
        }
      },
      "source": [
        "df = pd.read_csv(data_100k ,header=None, sep='\\t',names=[\"user_id\", \"movie_id\", \"rating\",\"timestamp\"])\n",
        "n_users, n_items = df['user_id'].unique().shape[0], df['movie_id'].unique().shape[0]\n",
        "# user_ratings = user_ratings.sort_values('user_id').reset_index(drop = True)\n",
        "df = df.drop(columns='timestamp')\n",
        "df.head(5)"
      ],
      "execution_count": 2,
      "outputs": [
        {
          "output_type": "execute_result",
          "data": {
            "text/html": [
              "<div>\n",
              "<style scoped>\n",
              "    .dataframe tbody tr th:only-of-type {\n",
              "        vertical-align: middle;\n",
              "    }\n",
              "\n",
              "    .dataframe tbody tr th {\n",
              "        vertical-align: top;\n",
              "    }\n",
              "\n",
              "    .dataframe thead th {\n",
              "        text-align: right;\n",
              "    }\n",
              "</style>\n",
              "<table border=\"1\" class=\"dataframe\">\n",
              "  <thead>\n",
              "    <tr style=\"text-align: right;\">\n",
              "      <th></th>\n",
              "      <th>user_id</th>\n",
              "      <th>movie_id</th>\n",
              "      <th>rating</th>\n",
              "    </tr>\n",
              "  </thead>\n",
              "  <tbody>\n",
              "    <tr>\n",
              "      <th>0</th>\n",
              "      <td>196</td>\n",
              "      <td>242</td>\n",
              "      <td>3</td>\n",
              "    </tr>\n",
              "    <tr>\n",
              "      <th>1</th>\n",
              "      <td>186</td>\n",
              "      <td>302</td>\n",
              "      <td>3</td>\n",
              "    </tr>\n",
              "    <tr>\n",
              "      <th>2</th>\n",
              "      <td>22</td>\n",
              "      <td>377</td>\n",
              "      <td>1</td>\n",
              "    </tr>\n",
              "    <tr>\n",
              "      <th>3</th>\n",
              "      <td>244</td>\n",
              "      <td>51</td>\n",
              "      <td>2</td>\n",
              "    </tr>\n",
              "    <tr>\n",
              "      <th>4</th>\n",
              "      <td>166</td>\n",
              "      <td>346</td>\n",
              "      <td>1</td>\n",
              "    </tr>\n",
              "  </tbody>\n",
              "</table>\n",
              "</div>"
            ],
            "text/plain": [
              "   user_id  movie_id  rating\n",
              "0      196       242       3\n",
              "1      186       302       3\n",
              "2       22       377       1\n",
              "3      244        51       2\n",
              "4      166       346       1"
            ]
          },
          "metadata": {
            "tags": []
          },
          "execution_count": 2
        }
      ]
    },
    {
      "cell_type": "code",
      "metadata": {
        "id": "F62K13NMZoZ7",
        "colab_type": "code",
        "outputId": "ec1d0a22-cfd7-479b-8f75-0a1b882aa011",
        "colab": {
          "base_uri": "https://localhost:8080/",
          "height": 136
        }
      },
      "source": [
        "ratings = np.zeros((n_users, n_items))\n",
        "for row in df.itertuples():\n",
        "    ratings[row[1]-1, row[2]-1] = row[3]\n",
        "ratings"
      ],
      "execution_count": 3,
      "outputs": [
        {
          "output_type": "execute_result",
          "data": {
            "text/plain": [
              "array([[5., 3., 4., ..., 0., 0., 0.],\n",
              "       [4., 0., 0., ..., 0., 0., 0.],\n",
              "       [0., 0., 0., ..., 0., 0., 0.],\n",
              "       ...,\n",
              "       [5., 0., 0., ..., 0., 0., 0.],\n",
              "       [0., 0., 0., ..., 0., 0., 0.],\n",
              "       [0., 5., 0., ..., 0., 0., 0.]])"
            ]
          },
          "metadata": {
            "tags": []
          },
          "execution_count": 3
        }
      ]
    },
    {
      "cell_type": "code",
      "metadata": {
        "id": "gcdqLUZsarUI",
        "colab_type": "code",
        "colab": {}
      },
      "source": [
        "\n",
        "def train_test_split(ratings):\n",
        "    test = np.zeros(ratings.shape)\n",
        "    train = ratings.copy()\n",
        "    for user in range(ratings.shape[0]):\n",
        "        test_ratings = np.random.choice(ratings[user, :].nonzero()[0], \n",
        "                                        size=10, \n",
        "                                        replace=False)\n",
        "        train[user, test_ratings] = 0.\n",
        "        test[user, test_ratings] = ratings[user, test_ratings]\n",
        "    assert(np.all((train * test) == 0)) \n",
        "    return train, test\n",
        "train, test = train_test_split(ratings)"
      ],
      "execution_count": 0,
      "outputs": []
    },
    {
      "cell_type": "code",
      "metadata": {
        "id": "83S4_3CSatNr",
        "colab_type": "code",
        "colab": {}
      },
      "source": [
        "def fast_similarity(ratings, kind='user', epsilon=1e-9):\n",
        "    # epsilon -> small number for handling dived-by-zero errors\n",
        "    if kind == 'user':\n",
        "        sim = ratings.dot(ratings.T) + epsilon\n",
        "    norms = np.array([np.sqrt(np.diagonal(sim))])\n",
        "    return (sim / norms / norms.T)\n",
        "user_similarity = fast_similarity(train, kind='user')"
      ],
      "execution_count": 0,
      "outputs": []
    },
    {
      "cell_type": "code",
      "metadata": {
        "id": "XoJbEuTxcE3j",
        "colab_type": "code",
        "colab": {}
      },
      "source": [
        "def predict_fast_simple(ratings, similarity, kind='user'):\n",
        "    if kind == 'user':\n",
        "        return similarity.dot(ratings) / np.array([np.abs(similarity).sum(axis=1)]).T"
      ],
      "execution_count": 0,
      "outputs": []
    },
    {
      "cell_type": "code",
      "metadata": {
        "id": "k2dG0SgidMZJ",
        "colab_type": "code",
        "colab": {}
      },
      "source": [
        "from sklearn.metrics import mean_squared_error\n",
        "def get_rmse(pred, actual):\n",
        "    # Ignore nonzero terms.\n",
        "    pred = pred[actual.nonzero()].flatten()\n",
        "    actual = actual[actual.nonzero()].flatten()\n",
        "    return np.sqrt(mean_squared_error(pred, actual))"
      ],
      "execution_count": 0,
      "outputs": []
    },
    {
      "cell_type": "code",
      "metadata": {
        "id": "XvpTEHs0gWze",
        "colab_type": "code",
        "outputId": "fc80e86b-5b18-490f-e4d7-f1489e2bf76b",
        "colab": {
          "base_uri": "https://localhost:8080/",
          "height": 34
        }
      },
      "source": [
        "user_prediction = predict_fast_simple(train, user_similarity, kind='user')\n",
        "print ('User-based CF MSE: ' + str(get_mse(user_prediction, test)))"
      ],
      "execution_count": 26,
      "outputs": [
        {
          "output_type": "stream",
          "text": [
            "User-based CF MSE: 8.44798843698731\n"
          ],
          "name": "stdout"
        }
      ]
    },
    {
      "cell_type": "code",
      "metadata": {
        "id": "KZc7bDIxjt5S",
        "colab_type": "code",
        "outputId": "516d3215-fd44-4887-da7c-1cf473cfbab2",
        "colab": {
          "base_uri": "https://localhost:8080/",
          "height": 34
        }
      },
      "source": [
        "import warnings\n",
        "warnings.filterwarnings(\"ignore\")\n",
        "def predict_topk(ratings, similarity, kind='user', k=40):\n",
        "    pred = np.zeros(tuple(ratings.shape))\n",
        "    if kind == 'user':\n",
        "        for i in range(ratings.shape[0]):\n",
        "            top_k_users = [np.argsort(similarity[:,i])[:-k-1:-1]]\n",
        "            for j in range(ratings.shape[1]):\n",
        "                pred[i, j] = similarity[i, :][top_k_users].dot(ratings[:, j][top_k_users]) \n",
        "                pred[i, j] /= np.sum(np.abs(similarity[i, :][top_k_users]))       \n",
        "    \n",
        "    return pred\n",
        "pred = predict_topk(train, user_similarity, kind='user', k=40)\n",
        "print ('Top-k User-based CF MSE: ' + str(get_rmse(pred, test)))"
      ],
      "execution_count": 27,
      "outputs": [
        {
          "output_type": "stream",
          "text": [
            "Top-k User-based CF MSE: 2.561618045969998\n"
          ],
          "name": "stdout"
        }
      ]
    },
    {
      "cell_type": "code",
      "metadata": {
        "id": "Xq9uYbPRfBts",
        "colab_type": "code",
        "colab": {}
      },
      "source": [
        "k_array = [5, 15, 30, 40, 50, 60, 100, 120]\n",
        "user_train_rmse = []\n",
        "user_test_rmse = []\n",
        "for k in k_array:\n",
        "    user_pred = predict_topk(train, user_similarity, kind='user', k=k)\n",
        "    user_train_rmse += [get_rmse(user_pred, train)]\n",
        "    user_test_rmse += [get_rmse(user_pred, test)]"
      ],
      "execution_count": 0,
      "outputs": []
    },
    {
      "cell_type": "code",
      "metadata": {
        "id": "YL7BkvUSlJnF",
        "colab_type": "code",
        "outputId": "2b8f0d47-c4a7-4137-bf75-a0dff97df73c",
        "colab": {
          "base_uri": "https://localhost:8080/",
          "height": 405
        }
      },
      "source": [
        "for i in range(len(k_array)):\n",
        "  print(f'k={k_array[i]}, RMSE in test result={user_test_rmse[i]}')\n",
        "import matplotlib.pyplot as plt\n",
        "plt.plot(k_array, user_train_rmse, color='red', label='test result')\n",
        "plt.plot(k_array, user_test_rmse, color='green', label='train result')\n",
        "plt.show()"
      ],
      "execution_count": 62,
      "outputs": [
        {
          "output_type": "stream",
          "text": [
            "k=5, RMSE in test result=2.9338664734623685\n",
            "k=15, RMSE in test result=2.656601601800383\n",
            "k=30, RMSE in test result=2.5738825005413783\n",
            "k=40, RMSE in test result=2.561618045969998\n",
            "k=50, RMSE in test result=2.5581817833767726\n",
            "k=60, RMSE in test result=2.5591212450249663\n",
            "k=100, RMSE in test result=2.571963803276884\n",
            "k=120, RMSE in test result=2.5814980116501522\n"
          ],
          "name": "stdout"
        },
        {
          "output_type": "display_data",
          "data": {
            "image/png": "[encoded data removed]",
            "text/plain": [
              "<Figure size 432x288 with 1 Axes>"
            ]
          },
          "metadata": {
            "tags": []
          }
        }
      ]
    },
    {
      "cell_type": "code",
      "metadata": {
        "id": "nRJEhkSQnzLv",
        "colab_type": "code",
        "colab": {}
      },
      "source": [
        " #由上可知，最优的k落在k=40和k=60之间\n",
        "k_array = []\n",
        "for i in range(40,61):\n",
        "  k_array.append(i)\n",
        "user_train_rmse = []\n",
        "user_test_rmse = []\n",
        "for k in k_array:\n",
        "    user_pred = predict_topk(train, user_similarity, kind='user', k=k)\n",
        "    user_train_rmse += [get_rmse(user_pred, train)]\n",
        "    user_test_rmse += [get_rmse(user_pred, test)]"
      ],
      "execution_count": 0,
      "outputs": []
    },
    {
      "cell_type": "code",
      "metadata": {
        "id": "s66ey0-zBYf0",
        "colab_type": "code",
        "colab": {
          "base_uri": "https://localhost:8080/",
          "height": 626
        },
        "outputId": "5597ee37-1766-460a-f9d7-2bffb9abab4c"
      },
      "source": [
        "for i in range(len(k_array)):\n",
        "  print(f'k={k_array[i]}, RMSE in test result={user_test_rmse[i]}')\n",
        "import matplotlib.pyplot as plt\n",
        "plt.plot(k_array, user_train_rmse, color='red', label='test result')\n",
        "plt.plot(k_array, user_test_rmse, color='green', label='train result')\n",
        "plt.show()"
      ],
      "execution_count": 69,
      "outputs": [
        {
          "output_type": "stream",
          "text": [
            "k=40, RMSE in test result=2.561618045969998\n",
            "k=41, RMSE in test result=2.560750735364401\n",
            "k=42, RMSE in test result=2.5600857867919378\n",
            "k=43, RMSE in test result=2.5599390467800966\n",
            "k=44, RMSE in test result=2.559211802370459\n",
            "k=45, RMSE in test result=2.558837269084845\n",
            "k=46, RMSE in test result=2.5579681766213476\n",
            "k=47, RMSE in test result=2.5578815265455295\n",
            "k=48, RMSE in test result=2.558096499535581\n",
            "k=49, RMSE in test result=2.5580832730095593\n",
            "k=50, RMSE in test result=2.5581817833767726\n",
            "k=51, RMSE in test result=2.557118043125199\n",
            "k=52, RMSE in test result=2.557742854964676\n",
            "k=53, RMSE in test result=2.557728631556633\n",
            "k=54, RMSE in test result=2.5579471125162\n",
            "k=55, RMSE in test result=2.557767213183528\n",
            "k=56, RMSE in test result=2.5582653297288465\n",
            "k=57, RMSE in test result=2.559018411252615\n",
            "k=58, RMSE in test result=2.559128233368442\n",
            "k=59, RMSE in test result=2.5592435509242155\n",
            "k=60, RMSE in test result=2.5591212450249663\n"
          ],
          "name": "stdout"
        },
        {
          "output_type": "display_data",
          "data": {
            "image/png": "[encoded data removed]",
            "text/plain": [
              "<Figure size 432x288 with 1 Axes>"
            ]
          },
          "metadata": {
            "tags": []
          }
        }
      ]
    },
    {
      "cell_type": "code",
      "metadata": {
        "id": "NH1dOD4CDptz",
        "colab_type": "code",
        "colab": {}
      },
      "source": [
        "#最优的k=51, RMSE in test result=2.557118043125199"
      ],
      "execution_count": 0,
      "outputs": []
    },
    {
      "cell_type": "code",
      "metadata": {
        "id": "obLGhvy0EBh1",
        "colab_type": "code",
        "colab": {}
      },
      "source": [
        ""
      ],
      "execution_count": 0,
      "outputs": []
    }
  ]
}